{
 "cells": [
  {
   "cell_type": "markdown",
   "id": "f895d241",
   "metadata": {},
   "source": [
    "Haga un programa en Python que reciba de par´ametro un nu´mero de segundos y que desplie\u0002gue en pantalla, las horas, minutos y segundos que representan. Por ejemplo:\n",
    "Si el nu´mero de segundos recibidos fuera: 2743 entonces su programa deber´ıa desplegar:\n",
    "Horas: 0, Minutos: 45 , Segundos: 43\n",
    "Si el nu´mero de segundos recibidos fuera 5871: Horas: 1, Minutos: 37 , Segundos: 51\n",
    "Recuerde manejar excepciones y errores que considere necesarios.\n"
   ]
  },
  {
   "cell_type": "code",
   "execution_count": null,
   "id": "3580a6c9",
   "metadata": {},
   "outputs": [],
   "source": []
  },
  {
   "cell_type": "code",
   "execution_count": 1,
   "id": "531a57fb",
   "metadata": {},
   "outputs": [
    {
     "name": "stdout",
     "output_type": "stream",
     "text": [
      "Horas: 0, Minutos: 45, Segundos: 43\n",
      "Horas: 1, Minutos: 37, Segundos: 51\n"
     ]
    }
   ],
   "source": [
    "def convertir_segundos(segundos):\n",
    "    try:\n",
    "\n",
    "        horas = segundos // 3600\n",
    "        segundos_restantes = segundos % 3600\n",
    "        minutos = segundos_restantes // 60\n",
    "        segundos = segundos_restantes % 60\n",
    "   \n",
    "        print(f\"Horas: {horas}, Minutos: {minutos}, Segundos: {segundos}\")\n",
    "    except TypeError:\n",
    "        print(\"Error: debes ingresar un número entero de segundos\")\n",
    "\n",
    "# Ejemplo de uso\n",
    "convertir_segundos(2743)\n",
    "convertir_segundos(5871)\n"
   ]
  },
  {
   "cell_type": "code",
   "execution_count": null,
   "id": "09c4208f",
   "metadata": {},
   "outputs": [],
   "source": []
  },
  {
   "cell_type": "code",
   "execution_count": null,
   "id": "c5bd4933",
   "metadata": {},
   "outputs": [],
   "source": []
  }
 ],
 "metadata": {
  "kernelspec": {
   "display_name": "Python 3 (ipykernel)",
   "language": "python",
   "name": "python3"
  },
  "language_info": {
   "codemirror_mode": {
    "name": "ipython",
    "version": 3
   },
   "file_extension": ".py",
   "mimetype": "text/x-python",
   "name": "python",
   "nbconvert_exporter": "python",
   "pygments_lexer": "ipython3",
   "version": "3.8.16"
  }
 },
 "nbformat": 4,
 "nbformat_minor": 5
}
