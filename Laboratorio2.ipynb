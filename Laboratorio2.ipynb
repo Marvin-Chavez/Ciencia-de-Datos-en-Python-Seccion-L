{
 "cells": [
  {
   "attachments": {},
   "cell_type": "markdown",
   "id": "f895d241",
   "metadata": {},
   "source": [
    "Laboratorio 2\n",
    "Ciencia de Datos con Phyton\n",
    "\n",
    "Haga un programa en Python que reciba de parametro un numero de segundos y que despliegue en pantalla, las horas, minutos y segundos que representan. Por ejemplo:\n",
    "Si el numero de segundos recibidos fuera: 2743 entonces su programa deber´ıa desplegar:\n",
    "Horas: 0, Minutos: 45 , Segundos: 43\n",
    "Si el numero de segundos recibidos fuera 5871: Horas: 1, Minutos: 37 , Segundos: 51\n",
    "Recuerde manejar excepciones y errores que considere necesarios.\n"
   ]
  },
  {
   "cell_type": "code",
   "execution_count": 6,
   "id": "531a57fb",
   "metadata": {},
   "outputs": [
    {
     "name": "stdout",
     "output_type": "stream",
     "text": [
      "Horas: 1, Minutos: 37, Segundos: 51\n"
     ]
    }
   ],
   "source": [
    "Entrada = int(input(\"Ingrese un Segundos: \"))\n",
    "def calcularseg(segundos):\n",
    "    try:\n",
    "\n",
    "        horas = segundos // 3600\n",
    "        segundos_restantes = segundos % 3600\n",
    "        minutos = segundos_restantes // 60\n",
    "        segundos = segundos_restantes % 60\n",
    "   \n",
    "        print(f\"Horas: {horas}, Minutos: {minutos}, Segundos: {segundos}\")\n",
    "    except TypeError:\n",
    "        print(\"Error: debes ingresar un número entero de segundos\")\n",
    "\n",
    "calcularseg(Entrada)\n"
   ]
  },
  {
   "attachments": {},
   "cell_type": "markdown",
   "id": "fe69c0fc",
   "metadata": {},
   "source": [
    "Haga una función en Python que dado un número entre 1 y 20. Y un carácter cualquiera\n",
    "despliegue cuatro patrones triangulares.\n",
    "Por ejemplo si el usuario ingresara el número 4 y el símbolo * el programa deberá desplegar\n",
    "lo siguiente:\n",
    "*\t\t****\t\t****\t\t   *\n",
    "**\t\t ***\t\t***\t\t  **\n",
    "***\t\t  **\t\t**\t\t ***\n",
    "****\t\t   *\t\t*\t\t****"
   ]
  },
  {
   "cell_type": "code",
   "execution_count": 3,
   "id": "0a02d3c7",
   "metadata": {},
   "outputs": [
    {
     "name": "stdout",
     "output_type": "stream",
     "text": [
      "Datos ingresados correctamente.\n",
      "p                      pppppppppppppppppppp  p                     pppppppppppppppppppp\n",
      "pp                      ppppppppppppppppppp  pp                     ppppppppppppppppppp\n",
      "ppp                      pppppppppppppppppp  ppp                     pppppppppppppppppp\n",
      "pppp                      ppppppppppppppppp  pppp                     ppppppppppppppppp\n",
      "ppppp                      pppppppppppppppp  ppppp                     pppppppppppppppp\n",
      "pppppp                      ppppppppppppppp  pppppp                     ppppppppppppppp\n",
      "ppppppp                      pppppppppppppp  ppppppp                     pppppppppppppp\n",
      "pppppppp                      ppppppppppppp  pppppppp                     ppppppppppppp\n",
      "ppppppppp                      pppppppppppp  ppppppppp                     pppppppppppp\n",
      "pppppppppp                      ppppppppppp  pppppppppp                     ppppppppppp\n",
      "ppppppppppp                      pppppppppp  ppppppppppp                     pppppppppp\n",
      "pppppppppppp                      ppppppppp  pppppppppppp                     ppppppppp\n",
      "ppppppppppppp                      pppppppp  ppppppppppppp                     pppppppp\n",
      "pppppppppppppp                      ppppppp  pppppppppppppp                     ppppppp\n",
      "ppppppppppppppp                      pppppp  ppppppppppppppp                     pppppp\n",
      "pppppppppppppppp                      ppppp  pppppppppppppppp                     ppppp\n",
      "ppppppppppppppppp                      pppp  ppppppppppppppppp                     pppp\n",
      "pppppppppppppppppp                      ppp  pppppppppppppppppp                     ppp\n",
      "ppppppppppppppppppp                      pp  ppppppppppppppppppp                     pp\n",
      "pppppppppppppppppppp                      p  pppppppppppppppppppp                     p\n"
     ]
    }
   ],
   "source": [
    "def patrones(numero, caracter):\n",
    "    patron1 = []\n",
    "    patron2 = []\n",
    "    patron3 = []\n",
    "    patron4 = []\n",
    "\n",
    "    for i in range(numero):\n",
    "        patron1.append(caracter*(i+1)+\" \"*(numero-i-1))\n",
    "\n",
    "    for i in range(numero):\n",
    "        patron2.append(\" \"*(i+1)+caracter*(numero-i))\n",
    "\n",
    "    for i in range(numero):\n",
    "        patron3.append(caracter*(i+1)+\" \"*(numero-i-1) )\n",
    "\n",
    "    for i in range(numero):\n",
    "        patron4.append(\" \"*i + caracter*(numero-i))\n",
    "\n",
    "    for i in range(numero):\n",
    "        print(patron1[i] + \"  \" + patron2[i] + \"  \" + patron3[i] + \"  \" + patron4[i])\n",
    "\n",
    "\n",
    "contador = 0\n",
    "\n",
    "while contador < 2:\n",
    "    numero = int(input(\"Ingrese un número entre 1 y 20: \"))\n",
    "    caracter = input(\"Ingrese un caracter: \")\n",
    "\n",
    "    if 1 <= numero <= 20 and len(caracter) == 1:\n",
    "        print(\"Datos ingresados correctamente.\")\n",
    "        patrones(numero, caracter)\n",
    "        break\n",
    "    else:\n",
    "        print(\"Error: el número debe ser un entero entre 1 y 20, y el caracter debe ser un único caracter.\")\n",
    "        contador += 1\n",
    "\n",
    "if contador == 2:\n",
    "    print(\"Se ha alcanzado el número máximo de intentos permitidos.\")\n"
   ]
  },
  {
   "attachments": {},
   "cell_type": "markdown",
   "id": "5815ac8a",
   "metadata": {},
   "source": [
    "Haga un programa en Python que la fecha de nacimiento de una persona (puede ingresar por\n",
    "separado cada valor, es decir pedir primero día, luego mes y luego año), despliegue la edad\n",
    "de la persona en años, meses y días. Su resultado puede ser aproximado."
   ]
  },
  {
   "cell_type": "code",
   "execution_count": 9,
   "id": "9177266a",
   "metadata": {},
   "outputs": [
    {
     "name": "stdout",
     "output_type": "stream",
     "text": [
      "Error: la fecha ingresada no es válida.\n",
      "La fecha es correcta.\n",
      "Edad: 27 años, 1 meses, 29 días\n"
     ]
    }
   ],
   "source": [
    "from datetime import date\n",
    "\n",
    "def calcular_edad(dia_nacimiento, mes_nacimiento, anio_nacimiento):\n",
    "    # Obtenemos la fecha actual\n",
    "    fecha_actual = date.today()\n",
    "    # Creamos un objeto de fecha con la fecha de nacimiento\n",
    "    fecha_nacimiento = date(anio_nacimiento, mes_nacimiento, dia_nacimiento)\n",
    "    # Calculamos la diferencia entre ambas fechas\n",
    "    diferencia = fecha_actual - fecha_nacimiento\n",
    "    # Calculamos la edad en años, meses y días\n",
    "    edad_anios = diferencia.days // 365\n",
    "    edad_meses = (diferencia.days % 365) // 30\n",
    "    edad_dias = (diferencia.days % 365) % 30\n",
    "    # Mostramos el resultado por pantalla\n",
    "    print(f\"Edad: {edad_anios} años, {edad_meses} meses, {edad_dias} días\")\n",
    "\n",
    "# Función para validar si una fecha es correcta\n",
    "def validar_fecha(dia, mes, anio):\n",
    "    # Verificar si el mes está entre 1 y 12\n",
    "    if not 1 <= mes <= 12:\n",
    "        return False\n",
    "    # Verificar si el día está entre 1 y 31 para los meses 1, 3, 5, 7, 8, 10 y 12\n",
    "    if mes in [1, 3, 5, 7, 8, 10, 12]:\n",
    "        if not 1 <= dia <= 31:\n",
    "            return False\n",
    "    # Verificar si el día está entre 1 y 30 para los meses 4, 6, 9 y 11\n",
    "    elif mes in [4, 6, 9, 11]:\n",
    "        if not 1 <= dia <= 30:\n",
    "            return False\n",
    "    # Verificar si el año es bisiesto para febrero\n",
    "    elif mes == 2:\n",
    "        if anio % 4 == 0 and (anio % 100 != 0 or anio % 400 == 0):\n",
    "            if not 1 <= dia <= 29:\n",
    "                return False\n",
    "        else:\n",
    "            if not 1 <= dia <= 28:\n",
    "                return False\n",
    "    # Si pasa todas las validaciones, la fecha es correcta\n",
    "    return True\n",
    "\n",
    "# Pedir día, mes y año hasta dos intentos\n",
    "for intento in range(2):\n",
    "    dia = int(input(\"Ingrese el día: \"))\n",
    "    mes = int(input(\"Ingrese el mes: \"))\n",
    "    anio = int(input(\"Ingrese el año: \"))\n",
    "    if validar_fecha(dia, mes, anio):\n",
    "        print(\"La fecha es correcta.\")\n",
    "        calcular_edad(dia, mes, anio)\n",
    "        break\n",
    "    else:\n",
    "        print(\"Error: la fecha ingresada no es válida.\")\n",
    "else:\n",
    "    print(\"Se agotaron los intentos. Por favor verifique la fecha.\")\n",
    "\n",
    "\n"
   ]
  },
  {
   "attachments": {},
   "cell_type": "markdown",
   "id": "edc9d70c",
   "metadata": {},
   "source": [
    "Escriba una función en Python que dada una tupla de elementos (números o letras) esta se\n",
    "convierta a un string. Tomar nota del siguiente ejemplo:\n",
    "Si la entrada fuera: (10, 20, 40, 5, 70)\n",
    "La salida debería ser: 102040570"
   ]
  },
  {
   "cell_type": "code",
   "execution_count": 20,
   "id": "002620a2",
   "metadata": {},
   "outputs": [
    {
     "name": "stdout",
     "output_type": "stream",
     "text": [
      "102040570\n"
     ]
    }
   ],
   "source": [
    "\n",
    "def tuplastring(tupla):\n",
    "    resultado = ''.join(str(elemento) for elemento in tupla)\n",
    "    return resultado\n",
    "while True:\n",
    "    tupla_usuario = input(\"Ingrese una tupla de números o caracteres separados por comas: \")\n",
    "    try:\n",
    "       \n",
    "        tupla = tuple(tupla_usuario.replace(\" \", \"\").split(\",\"))\n",
    "      \n",
    "        if all(isinstance(elemento, (int, float, str)) for elemento in tupla):\n",
    "            break\n",
    "        else:\n",
    "            print(\"Error: la tupla debe contener solo números o caracteres.\")\n",
    "    except:\n",
    "        print(\"Error: ingrese una tupla válida.\")\n",
    "\n",
    "resultado = tuplastring(tupla)\n",
    "print(resultado)\n",
    "\n",
    "\n"
   ]
  },
  {
   "attachments": {},
   "cell_type": "markdown",
   "id": "52ab1e05",
   "metadata": {},
   "source": [
    "Cree un programa en Python que dada una lista de tuplas, elimine las tuplas que estan vacías.\n",
    "Tomar nota del siguiente ejemplo:\n",
    "Si la lista fuera: [(), (), (’X’,), (’a’, ’b’), (’a’, ’b’, ’c’), (’d’)]\n",
    "El resultado deber´ıa ser: [(’X’), (’a’, ’b’), (’a’, ’b’, ’c’), ’d’]"
   ]
  },
  {
   "cell_type": "code",
   "execution_count": 29,
   "id": "dd3a61e6",
   "metadata": {},
   "outputs": [
    {
     "name": "stdout",
     "output_type": "stream",
     "text": [
      "Las tuplas no vacías son: [('X',), ('a', 'b'), ('a', 'b', 'c'), 'd']\n"
     ]
    }
   ],
   "source": [
    "\n",
    "entrada = input(\"Ingrese las tuplas separadas por coma y entre paréntesis, por ejemplo: (), ('a', 'b'), ('c', 'd'): \")\n",
    "\n",
    "try:\n",
    "    lista_de_tuplas = eval(entrada)\n",
    "\n",
    "\n",
    "    tuplasnovacias = []\n",
    "\n",
    "\n",
    "    for tupla in lista_de_tuplas:\n",
    "\n",
    "        if tupla:\n",
    "            tuplasnovacias.append(tupla)\n",
    "\n",
    "\n",
    "    print(\"Las tuplas no vacías son:\", tuplasnovacias)\n",
    "\n",
    "except (NameError, TypeError, SyntaxError):\n",
    "\n",
    "    print(\"Error: el formato de las tuplas es inválido. Recuerde usar comillas simples para los strings.\") \n",
    "\n",
    "\n"
   ]
  },
  {
   "attachments": {},
   "cell_type": "markdown",
   "id": "8a2b000d",
   "metadata": {},
   "source": [
    "Cree una función en Python que dada una tupla de tuplas con nu´meros, produzca una tupla\n",
    "con el promedio de cada tupla individual. Tomar nota del siguiente ejemplo:\n",
    "Si la tupla de entrada fuera: ((10, 10, 10, 12), (30, 45, 56, 45), (81, 80, 39, 32))\n",
    "El resultado deber´ıa ser: (10.5, 44, 58)"
   ]
  },
  {
   "cell_type": "code",
   "execution_count": 36,
   "id": "8da92f6c",
   "metadata": {},
   "outputs": [
    {
     "name": "stdout",
     "output_type": "stream",
     "text": [
      "(10.5, 44.0, 58.0)\n"
     ]
    }
   ],
   "source": [
    "import ast\n",
    "\n",
    "def promedio_tuplas(tupla_de_tuplas):\n",
    "    # Creamos una lista para almacenar los resultados\n",
    "    resultados = []\n",
    "    # Recorremos cada tupla de la tupla de tuplas\n",
    "    for tupla in tupla_de_tuplas:\n",
    "        # Calculamos el promedio de la tupla y lo agregamos a la lista de resultados\n",
    "        promedio = sum(tupla) / len(tupla)\n",
    "        resultados.append(promedio)\n",
    "    # Convertimos la lista de resultados a una tupla y la devolvemos\n",
    "    return tuple(resultados)\n",
    "\n",
    "# Solicitamos al usuario que ingrese una cadena de tupla anidada\n",
    "entrada = input(\"Ingrese una cadena de tupla anidada en formato de cadena, ej. (5,1),(2,3): \")\n",
    "\n",
    "# Convertimos la cadena de entrada en una estructura de datos Python con ast.literal_eval()\n",
    "try:\n",
    "    tupla_de_tuplas = ast.literal_eval(entrada)\n",
    "except (ValueError, SyntaxError):\n",
    "    print(\"Error: la cadena ingresada no es una tupla anidada válida.\")\n",
    "else:\n",
    "    # Validamos que todas las tuplas de la tupla de tuplas sean numéricas\n",
    "    if all(isinstance(tupla, tuple) and all(isinstance(numero, (int, float)) for numero in tupla) for tupla in tupla_de_tuplas):\n",
    "        # Calculamos los promedios de las tuplas y mostramos el resultado\n",
    "        resultado = promedio_tuplas(tupla_de_tuplas)\n",
    "        print(resultado)\n",
    "    else:\n",
    "        print(\"Error: todas las tuplas de la tupla anidada deben ser numéricas.\")\n"
   ]
  },
  {
   "attachments": {},
   "cell_type": "markdown",
   "id": "a0a6422c",
   "metadata": {},
   "source": [
    "Escribir un programa que gestione las facturas pendientes de cobro de una empresa. Las\n",
    "facturas se almacenarán en un diccionario donde la llave de cada factura será el número de\n",
    "factura (debe utilizar un numero de 4 dígitos) y el valor el coste de la factura. El programa\n",
    "debe preguntar al usuario si quiere añadir una nueva factura, pagar una existente o terminar.\n",
    "Si desea añadir una nueva factura se preguntará por el número de factura y su coste y se\n",
    "añadira al diccionario, para confirmar que la factura se ingreso correctamente el programa\n",
    "debe desplegar el diccionario completo. Si se desea pagar una factura se preguntará por el\n",
    "número de factura y se eliminará del diccionario. Despúes de cada operación el programa\n",
    "debe mostrar en pantalla la cantidad cobrada hasta el momento y la cantidad pendiente de\n",
    "cobro. Puede utilizar otras estructuras de datos como apoyo si lo considera necesario."
   ]
  },
  {
   "cell_type": "code",
   "execution_count": 46,
   "id": "f9350113",
   "metadata": {},
   "outputs": [
    {
     "name": "stdout",
     "output_type": "stream",
     "text": [
      "Opción inválida.\n",
      "Factura añadida: {'1234': 100.0}\n",
      "Factura añadida: {'1234': 100.0, '1235': 200.0}\n",
      "Opción inválida.\n",
      "Factura añadida: {'1234': 100.0, '1235': 200.0, '1236': 300.0}\n",
      "Pendientes: {'1235': 200.0, '1236': 300.0}\n",
      "Cantidad cobrada hasta el momento: 100.0\n",
      "Cantidad pendiente de cobro: 500.0\n",
      "Factura no encontrada.\n",
      "Factura no encontrada.\n",
      "Pendientes: {'1236': 300.0}\n",
      "Pendientes: {'1236': 300.0}\n"
     ]
    }
   ],
   "source": [
    "facturas = {}\n",
    "facturas_cobradas = 0\n",
    "facturas_pendientes = 0\n",
    "\n",
    "while True:\n",
    "    opcion = input(\"¿Qué desea hacer? (a = añadir/p = pagar/v = ver/ t = terminar): \")\n",
    "    \n",
    "    if opcion == \"a\":\n",
    "        numero = input(\"Ingrese el número de factura (4 dígitos): \")\n",
    "        while len(numero) != 4 or not numero.isdigit():\n",
    "            numero = input(\"Número inválido. Ingrese el número de factura (4 dígitos): \")\n",
    "        costo = input(\"Ingrese el costo de la factura: \")\n",
    "        while not costo.replace(\".\", \"\").isdigit():\n",
    "            costo = input(\"Costo inválido. Ingrese el costo de la factura: \")\n",
    "        costo = float(costo)\n",
    "        facturas[numero] = costo\n",
    "        facturas_pendientes += costo\n",
    "        print(\"Factura añadida:\", facturas)\n",
    "    \n",
    "    elif opcion == \"p\":\n",
    "        numero = input(\"Ingrese el número de factura que desea pagar: \")\n",
    "        if numero in facturas:\n",
    "            costo = facturas[numero]\n",
    "            del facturas[numero]\n",
    "            facturas_cobradas += costo\n",
    "            facturas_pendientes -= costo\n",
    "            print(\"Pendientes:\", facturas)\n",
    "        else:\n",
    "            intentos = 2\n",
    "            while intentos > 0:\n",
    "                print(\"Factura no encontrada.\")\n",
    "                numero = input(f\"Ingrese el número de factura que desea pagar ({intentos} intentos restantes): \")\n",
    "                if numero in facturas:\n",
    "                    costo = facturas[numero]\n",
    "                    del facturas[numero]\n",
    "                    facturas_cobradas += costo\n",
    "                    facturas_pendientes -= costo\n",
    "                    print(\"Pendientes:\", facturas)\n",
    "                    break\n",
    "                intentos -= 1\n",
    "            if intentos == 0:\n",
    "                print(\"Demasiados intentos fallidos, regresando al menú principal.\")\n",
    "            else:\n",
    "                print(\"Pendientes:\", facturas)\n",
    "    \n",
    "    elif opcion == \"v\":\n",
    "        print(\"Cantidad cobrada hasta el momento:\", facturas_cobradas)\n",
    "        print(\"Cantidad pendiente de cobro:\", facturas_pendientes)\n",
    "    \n",
    "    elif opcion == \"t\":\n",
    "        break\n",
    "    \n",
    "    else:\n",
    "        print(\"Opción inválida.\")\n"
   ]
  },
  {
   "attachments": {},
   "cell_type": "markdown",
   "id": "933e0067",
   "metadata": {},
   "source": [
    "Haga una funcion en Python, que cree un set con todas las cartas de una baraja de Pocker utilizando el siguiente formato: Tipo-Numero. Utilice las letras T para treboles, C para\n",
    "corazones, P para picas y E para espadas. Para los nu´meros utilice la numeracion del 1 al\n",
    "13. Por ejemplo E13 - serıa Rey de Espadas, P01 ser´ıa As de Picas, T05 serıa cinco de Tr´eboles.\n",
    "Posteriormente cree una funci´on que dado el conjunto anterior cree dos sets nuevos de cartas,\n",
    "cada conjunto debe tener una cantidad variable de elementos, puede utilizar numeros aleatorios enteros para definir la longitud de los conjuntos.\n",
    "Adicionalmente, debera calcular la probabilidad de la interseccion de ambos conjuntos y demuestre si son eventos independientes con la regla del producto.\n",
    "Para concluir, calcule probabilidad de la union de ambos conjuntos y demuestre que se cumple\n",
    "la regla de la adicion"
   ]
  },
  {
   "cell_type": "code",
   "execution_count": 85,
   "id": "6b509af1",
   "metadata": {},
   "outputs": [
    {
     "name": "stdout",
     "output_type": "stream",
     "text": [
      "Baraja de Poker: {'T03', 'E13', 'P07', 'E09', 'P05', 'E07', 'E12', 'C05', 'P09', 'T06', 'C08', 'T10', 'C01', 'E08', 'E11', 'E10', 'C09', 'P04', 'C12', 'P13', 'E04', 'P01', 'E06', 'T11', 'T02', 'T13', 'T05', 'E01', 'E02', 'P02', 'T01', 'T07', 'C04', 'P03', 'C06', 'T12', 'T04', 'T09', 'C03', 'P08', 'T08', 'C07', 'C10', 'P11', 'C13', 'P10', 'E03', 'C02', 'P12', 'C11', 'E05', 'P06'}\n",
      "Conjunto 1: {'P11', 'C09', 'P04', 'C13', 'P07', 'P13', 'C02', 'E06', 'P05', 'T11', 'P08', 'T02', 'T05', 'T09', 'E05'}\n",
      "Conjunto 2: {'T03', 'E13', 'E09', 'E07', 'E12', 'P09', 'C05', 'C08', 'T06', 'T10', 'C01', 'E08', 'E11', 'E10', 'C12', 'E04', 'P01', 'T13', 'E01', 'C11', 'P02', 'T01', 'T07', 'C04', 'P03', 'C06', 'T12', 'T04', 'C03', 'T08', 'C07', 'C10', 'P10', 'E03', 'P12', 'E02', 'P06'}\n",
      "Probabilidad de intersección: 0.0\n",
      "¿Son eventos independientes? False\n",
      "Probabilidad de unión: 1.0\n"
     ]
    }
   ],
   "source": [
    "import random\n",
    "#eventos dependientes por ser de la misma baraja. \n",
    "def crear_baraja():\n",
    "    baraja = set()\n",
    "    tipos = [\"T\", \"C\", \"P\", \"E\"]\n",
    "    numeros = [\"01\", \"02\", \"03\", \"04\", \"05\", \"06\", \"07\", \"08\", \"09\", \"10\", \"11\", \"12\", \"13\"]\n",
    "    for tipo in tipos:\n",
    "        for numero in numeros:\n",
    "            baraja.add(tipo + numero)\n",
    "    return baraja\n",
    "\n",
    "def crear_conjuntos(baraja, n):\n",
    "    conjunto1 = set(random.sample(baraja, n))\n",
    "    conjunto2 = baraja.difference(conjunto1)\n",
    "    return conjunto1, conjunto2\n",
    "\n",
    "def probabilidad_interseccion(conjunto1, conjunto2):\n",
    "    interseccion = conjunto1.intersection(conjunto2)\n",
    "    prob_interseccion = len(interseccion) / len(conjunto1.union(conjunto2))\n",
    "    return prob_interseccion\n",
    "\n",
    "def verificar_independencia(conjunto1, conjunto2):\n",
    "    prob_conjunto1 = len(conjunto1) / len(crear_baraja())\n",
    "    prob_conjunto2 = len(conjunto2) / len(crear_baraja())\n",
    "    prob_interseccion = probabilidad_interseccion(conjunto1, conjunto2)\n",
    "    producto = prob_conjunto1 * prob_conjunto2\n",
    "    if prob_interseccion == producto:\n",
    "        return True\n",
    "    else:\n",
    "        return False\n",
    "\n",
    "def probabilidad_union(conjunto1, conjunto2):\n",
    "    union = conjunto1.union(conjunto2)\n",
    "    prob_union = len(union) / len(crear_baraja())\n",
    "    return prob_union\n",
    "\n",
    "\n",
    "baraja = crear_baraja()\n",
    "print(\"Baraja de Poker:\", baraja)\n",
    "\n",
    "n1 = int(input(\"Ingrese el tamaño del conjunto 1: \"))\n",
    "conjunto1, conjunto2 = crear_conjuntos(baraja, n1)\n",
    "print(\"Conjunto 1:\", conjunto1)\n",
    "print(\"Conjunto 2:\", conjunto2)\n",
    "print(\"Probabilidad de intersección:\", probabilidad_interseccion(conjunto1, conjunto2))\n",
    "print(\"¿Son eventos independientes?\", verificar_independencia(conjunto1, conjunto2))\n",
    "print(\"Probabilidad de unión:\", probabilidad_union(conjunto1, conjunto2))\n"
   ]
  }
 ],
 "metadata": {
  "kernelspec": {
   "display_name": "Python 3 (ipykernel)",
   "language": "python",
   "name": "python3"
  },
  "language_info": {
   "codemirror_mode": {
    "name": "ipython",
    "version": 3
   },
   "file_extension": ".py",
   "mimetype": "text/x-python",
   "name": "python",
   "nbconvert_exporter": "python",
   "pygments_lexer": "ipython3",
   "version": "3.8.16"
  }
 },
 "nbformat": 4,
 "nbformat_minor": 5
}
